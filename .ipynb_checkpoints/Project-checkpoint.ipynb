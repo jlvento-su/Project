{
 "cells": [
  {
   "cell_type": "code",
   "execution_count": 1,
   "metadata": {},
   "outputs": [
    {
     "name": "stdout",
     "output_type": "stream",
     "text": [
      "please enter your zip code: 10805\n",
      "The weather forecast in 10805 for today, 2019-05-05 21:00:00 is light rain\n"
     ]
    }
   ],
   "source": [
    "import requests\n",
    "user = input(\"please enter your zip code: \")\n",
    "url = 'https://api.openweathermap.org/data/2.5/forecast?zip='+user+',US&appid=89899ce74fe3c695cd1877a145a74b7a'\n",
    "\n",
    "\n",
    "\n",
    "\n",
    "response = requests.get(url)\n",
    "response.ok\n",
    "results = response.json()\n",
    "\n",
    "\n",
    "main = results['list'][0]['weather'][0]['main']\n",
    "\n",
    "description = results['list'][0]['weather'][0]['description']\n",
    "\n",
    "today = results['list'][0]['dt_txt']\n",
    "\n",
    "tomorrow = results['list'][8]['dt_txt']\n",
    "\n",
    "day_3 = results['list'][16]['dt_txt']\n",
    "\n",
    "day_4 = results['list'][24]['dt_txt']\n",
    "\n",
    "day_5 = results['list'][32]['dt_txt']\n",
    "\n",
    "furthest_forecast = results['list'][39]['dt_txt']\n",
    "\n",
    "\n",
    "\n",
    "\n",
    "print(\"The weather forecast in\", user, \"for today,\", today, \"is\", description,)\n",
    "\n"
   ]
  },
  {
   "cell_type": "code",
   "execution_count": null,
   "metadata": {},
   "outputs": [],
   "source": [
    "for y in results['list']:\n",
    "    description = results['list'][x]['weather'][0]['description']\n",
    "    \n",
    "    "
   ]
  },
  {
   "cell_type": "code",
   "execution_count": 19,
   "metadata": {},
   "outputs": [
    {
     "ename": "AttributeError",
     "evalue": "'str' object has no attribute 'gettext'",
     "output_type": "error",
     "traceback": [
      "\u001b[1;31m---------------------------------------------------------------------------\u001b[0m",
      "\u001b[1;31mAttributeError\u001b[0m                            Traceback (most recent call last)",
      "\u001b[1;32m<ipython-input-19-9c6b7a11f3f9>\u001b[0m in \u001b[0;36m<module>\u001b[1;34m\u001b[0m\n\u001b[0;32m     10\u001b[0m     \u001b[0mparagraphs\u001b[0m \u001b[1;33m=\u001b[0m \u001b[0murl_content\u001b[0m\u001b[1;33m.\u001b[0m\u001b[0mfind_all\u001b[0m\u001b[1;33m(\u001b[0m\u001b[1;34m\"p\"\u001b[0m\u001b[1;33m)\u001b[0m\u001b[1;33m[\u001b[0m\u001b[0mi\u001b[0m\u001b[1;33m]\u001b[0m\u001b[1;33m.\u001b[0m\u001b[0mtext\u001b[0m\u001b[1;33m\u001b[0m\u001b[0m\n\u001b[0;32m     11\u001b[0m     \u001b[0mtextContent\u001b[0m\u001b[1;33m.\u001b[0m\u001b[0mappend\u001b[0m\u001b[1;33m(\u001b[0m\u001b[0mparagraphs\u001b[0m\u001b[1;33m)\u001b[0m\u001b[1;33m\u001b[0m\u001b[0m\n\u001b[1;32m---> 12\u001b[1;33m \u001b[0mparagraphs\u001b[0m\u001b[1;33m[\u001b[0m\u001b[1;36m4\u001b[0m\u001b[1;33m]\u001b[0m\u001b[1;33m.\u001b[0m\u001b[0mgettext\u001b[0m\u001b[1;33m(\u001b[0m\u001b[1;33m)\u001b[0m\u001b[1;33m\u001b[0m\u001b[0m\n\u001b[0m\u001b[0;32m     13\u001b[0m \u001b[1;33m\u001b[0m\u001b[0m\n\u001b[0;32m     14\u001b[0m \u001b[1;33m\u001b[0m\u001b[0m\n",
      "\u001b[1;31mAttributeError\u001b[0m: 'str' object has no attribute 'gettext'"
     ]
    }
   ],
   "source": [
    "\n",
    "import requests\n",
    "from bs4 import BeautifulSoup\n",
    "url = \"https://weatherstationexpert.com/what-to-wear-in-30-40-50-60-70-80-weather/\"\n",
    "r = requests.get(url) \n",
    "url_response = requests.get(url, timeout=5)\n",
    "url_content = BeautifulSoup(url_response.content, \"html.parser\")\n",
    "textContent = []\n",
    "for i in range(0, 20):\n",
    "    paragraphs = url_content.find_all(\"p\")[i].text\n",
    "    textContent.append(paragraphs)\n",
    "paragraphs[4].gettext()\n",
    "\n",
    "\n"
   ]
  },
  {
   "cell_type": "code",
   "execution_count": 31,
   "metadata": {},
   "outputs": [
    {
     "name": "stdout",
     "output_type": "stream",
     "text": [
      "please enter your zip code: 94016\n",
      "\u001b[96m\u001b[1m\u001b[4m5-Day Weather Forecast & outfit suggestions for your area: 94016\n"
     ]
    },
    {
     "data": {
      "text/html": [
       "<div>\n",
       "<style scoped>\n",
       "    .dataframe tbody tr th:only-of-type {\n",
       "        vertical-align: middle;\n",
       "    }\n",
       "\n",
       "    .dataframe tbody tr th {\n",
       "        vertical-align: top;\n",
       "    }\n",
       "\n",
       "    .dataframe thead th {\n",
       "        text-align: right;\n",
       "    }\n",
       "</style>\n",
       "<table border=\"1\" class=\"dataframe\">\n",
       "  <thead>\n",
       "    <tr style=\"text-align: right;\">\n",
       "      <th></th>\n",
       "      <th>Date/Time</th>\n",
       "      <th>Forecast</th>\n",
       "      <th>Temperature</th>\n",
       "      <th>Outfit</th>\n",
       "    </tr>\n",
       "  </thead>\n",
       "  <tbody>\n",
       "    <tr>\n",
       "      <th>0</th>\n",
       "      <td>2019-05-05 21:00:00</td>\n",
       "      <td>scattered clouds</td>\n",
       "      <td>63</td>\n",
       "      <td>done</td>\n",
       "    </tr>\n",
       "  </tbody>\n",
       "</table>\n",
       "</div>"
      ],
      "text/plain": [
       "             Date/Time          Forecast  Temperature Outfit\n",
       "0  2019-05-05 21:00:00  scattered clouds           63   done"
      ]
     },
     "metadata": {},
     "output_type": "display_data"
    },
    {
     "data": {
      "text/html": [
       "<div>\n",
       "<style scoped>\n",
       "    .dataframe tbody tr th:only-of-type {\n",
       "        vertical-align: middle;\n",
       "    }\n",
       "\n",
       "    .dataframe tbody tr th {\n",
       "        vertical-align: top;\n",
       "    }\n",
       "\n",
       "    .dataframe thead th {\n",
       "        text-align: right;\n",
       "    }\n",
       "</style>\n",
       "<table border=\"1\" class=\"dataframe\">\n",
       "  <thead>\n",
       "    <tr style=\"text-align: right;\">\n",
       "      <th></th>\n",
       "      <th>Date/Time</th>\n",
       "      <th>Forecast</th>\n",
       "      <th>Temperature</th>\n",
       "      <th>Outfit</th>\n",
       "    </tr>\n",
       "  </thead>\n",
       "  <tbody>\n",
       "    <tr>\n",
       "      <th>0</th>\n",
       "      <td>2019-05-06 21:00:00</td>\n",
       "      <td>broken clouds</td>\n",
       "      <td>58</td>\n",
       "      <td>done</td>\n",
       "    </tr>\n",
       "  </tbody>\n",
       "</table>\n",
       "</div>"
      ],
      "text/plain": [
       "             Date/Time       Forecast  Temperature Outfit\n",
       "0  2019-05-06 21:00:00  broken clouds           58   done"
      ]
     },
     "metadata": {},
     "output_type": "display_data"
    },
    {
     "data": {
      "text/html": [
       "<div>\n",
       "<style scoped>\n",
       "    .dataframe tbody tr th:only-of-type {\n",
       "        vertical-align: middle;\n",
       "    }\n",
       "\n",
       "    .dataframe tbody tr th {\n",
       "        vertical-align: top;\n",
       "    }\n",
       "\n",
       "    .dataframe thead th {\n",
       "        text-align: right;\n",
       "    }\n",
       "</style>\n",
       "<table border=\"1\" class=\"dataframe\">\n",
       "  <thead>\n",
       "    <tr style=\"text-align: right;\">\n",
       "      <th></th>\n",
       "      <th>Date/Time</th>\n",
       "      <th>Forecast</th>\n",
       "      <th>Temperature</th>\n",
       "      <th>Outfit</th>\n",
       "    </tr>\n",
       "  </thead>\n",
       "  <tbody>\n",
       "    <tr>\n",
       "      <th>0</th>\n",
       "      <td>2019-05-07 21:00:00</td>\n",
       "      <td>clear sky</td>\n",
       "      <td>61</td>\n",
       "      <td>done</td>\n",
       "    </tr>\n",
       "  </tbody>\n",
       "</table>\n",
       "</div>"
      ],
      "text/plain": [
       "             Date/Time   Forecast  Temperature Outfit\n",
       "0  2019-05-07 21:00:00  clear sky           61   done"
      ]
     },
     "metadata": {},
     "output_type": "display_data"
    },
    {
     "data": {
      "text/html": [
       "<div>\n",
       "<style scoped>\n",
       "    .dataframe tbody tr th:only-of-type {\n",
       "        vertical-align: middle;\n",
       "    }\n",
       "\n",
       "    .dataframe tbody tr th {\n",
       "        vertical-align: top;\n",
       "    }\n",
       "\n",
       "    .dataframe thead th {\n",
       "        text-align: right;\n",
       "    }\n",
       "</style>\n",
       "<table border=\"1\" class=\"dataframe\">\n",
       "  <thead>\n",
       "    <tr style=\"text-align: right;\">\n",
       "      <th></th>\n",
       "      <th>Date/Time</th>\n",
       "      <th>Forecast</th>\n",
       "      <th>Temperature</th>\n",
       "      <th>Outfit</th>\n",
       "    </tr>\n",
       "  </thead>\n",
       "  <tbody>\n",
       "    <tr>\n",
       "      <th>0</th>\n",
       "      <td>2019-05-08 21:00:00</td>\n",
       "      <td>clear sky</td>\n",
       "      <td>65</td>\n",
       "      <td>done</td>\n",
       "    </tr>\n",
       "  </tbody>\n",
       "</table>\n",
       "</div>"
      ],
      "text/plain": [
       "             Date/Time   Forecast  Temperature Outfit\n",
       "0  2019-05-08 21:00:00  clear sky           65   done"
      ]
     },
     "metadata": {},
     "output_type": "display_data"
    },
    {
     "data": {
      "text/html": [
       "<div>\n",
       "<style scoped>\n",
       "    .dataframe tbody tr th:only-of-type {\n",
       "        vertical-align: middle;\n",
       "    }\n",
       "\n",
       "    .dataframe tbody tr th {\n",
       "        vertical-align: top;\n",
       "    }\n",
       "\n",
       "    .dataframe thead th {\n",
       "        text-align: right;\n",
       "    }\n",
       "</style>\n",
       "<table border=\"1\" class=\"dataframe\">\n",
       "  <thead>\n",
       "    <tr style=\"text-align: right;\">\n",
       "      <th></th>\n",
       "      <th>Date/Time</th>\n",
       "      <th>Forecast</th>\n",
       "      <th>Temperature</th>\n",
       "      <th>Outfit</th>\n",
       "    </tr>\n",
       "  </thead>\n",
       "  <tbody>\n",
       "    <tr>\n",
       "      <th>0</th>\n",
       "      <td>2019-05-09 21:00:00</td>\n",
       "      <td>clear sky</td>\n",
       "      <td>62</td>\n",
       "      <td>done</td>\n",
       "    </tr>\n",
       "  </tbody>\n",
       "</table>\n",
       "</div>"
      ],
      "text/plain": [
       "             Date/Time   Forecast  Temperature Outfit\n",
       "0  2019-05-09 21:00:00  clear sky           62   done"
      ]
     },
     "metadata": {},
     "output_type": "display_data"
    }
   ],
   "source": [
    "import pandas as pd\n",
    "import numpy as np\n",
    "from IPython.display import display\n",
    "import requests\n",
    "user = input('\\033[1m' + '\\033[94m' \"please enter your zip code: \")\n",
    "url = 'https://api.openweathermap.org/data/2.5/forecast?zip=' + user + ',US&appid=89899ce74fe3c695cd1877a145a74b7a'\n",
    "response = requests.get(url)\n",
    "response.ok\n",
    "results = response.json()\n",
    "print('\\033[96m' + '\\033[1m' + '\\033[4m' \"5-Day Weather Forecast & outfit suggestions for your area:\", user)\n",
    "x=0\n",
    "\n",
    "try:\n",
    "\n",
    "    \n",
    "    for y in results['list']:\n",
    "        description = results['list'][x]['weather'][0]['description']\n",
    "        today = results['list'][x]['dt_txt']\n",
    "        k = results['list'][x]['main']['temp']\n",
    "        f = int((k - 273.15) * 9/5 + 32)\n",
    "    \n",
    "        if f > 40:\n",
    "            outfit = \"done\"\n",
    "   \n",
    "        \n",
    "\n",
    "    \n",
    "    \n",
    "        data = {'Date/Time' : [today], 'Forecast' : [description], 'Temperature' : [f], 'Outfit' : [outfit]}\n",
    "        dataframe = pd.DataFrame(data,columns=['Date/Time', 'Forecast', 'Temperature', 'Outfit'])\n",
    "        display(dataframe)\n",
    "        x = x+8\n",
    "        if x > 39:\n",
    "            break\n",
    "\n",
    "# cannot decode json\n",
    "except json.decoder.JSONDecodeError as e: \n",
    "    print(\"ERROR: Cannot decode the response into json\")\n",
    "    print(\"DETAILS\", e)\n",
    "\n",
    "# response not ok\n",
    "except requests.exceptions.HTTPError as e:\n",
    "    print(\"ERROR: Response from \", url, 'was not ok.')\n",
    "    print(\"DETAILS:\", e)\n",
    "        \n",
    "# internet is broken\n",
    "except requests.exceptions.RequestException as e: \n",
    "    print(\"ERROR: Cannot connect to \", url)\n",
    "    print(\"DETAILS:\", e)\n",
    "    \n",
    "except KeyError as e:\n",
    "    print(\"please enter a proper 5-digit US zip code\")\n",
    "    print(\"details:\", e)"
   ]
  },
  {
   "cell_type": "code",
   "execution_count": 21,
   "metadata": {},
   "outputs": [
    {
     "ename": "SyntaxError",
     "evalue": "invalid syntax (<ipython-input-21-644fccfa899c>, line 4)",
     "output_type": "error",
     "traceback": [
      "\u001b[1;36m  File \u001b[1;32m\"<ipython-input-21-644fccfa899c>\"\u001b[1;36m, line \u001b[1;32m4\u001b[0m\n\u001b[1;33m    print(plt.('\\033[96m' + '\\033[4m' + 'Hello'))\u001b[0m\n\u001b[1;37m              ^\u001b[0m\n\u001b[1;31mSyntaxError\u001b[0m\u001b[1;31m:\u001b[0m invalid syntax\n"
     ]
    }
   ],
   "source": [
    "\n",
    "\n",
    "('\\033[96m' + '\\033[4m' + 'Hello')"
   ]
  },
  {
   "cell_type": "code",
   "execution_count": null,
   "metadata": {},
   "outputs": [],
   "source": []
  }
 ],
 "metadata": {
  "kernelspec": {
   "display_name": "Python 3",
   "language": "python",
   "name": "python3"
  },
  "language_info": {
   "codemirror_mode": {
    "name": "ipython",
    "version": 3
   },
   "file_extension": ".py",
   "mimetype": "text/x-python",
   "name": "python",
   "nbconvert_exporter": "python",
   "pygments_lexer": "ipython3",
   "version": "3.6.6"
  }
 },
 "nbformat": 4,
 "nbformat_minor": 2
}
